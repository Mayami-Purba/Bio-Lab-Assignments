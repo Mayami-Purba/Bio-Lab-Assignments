{
 "cells": [
  {
   "cell_type": "markdown",
   "metadata": {},
   "source": [
    "# ba3a"
   ]
  },
  {
   "cell_type": "code",
   "execution_count": 1,
   "metadata": {},
   "outputs": [
    {
     "name": "stdout",
     "output_type": "stream",
     "text": [
      "Enter the k value: 5\n",
      "Enter the string: CAATCCAAC\n",
      "CAATC\n",
      "AATCC\n",
      "ATCCA\n",
      "TCCAA\n",
      "CCAAC\n"
     ]
    }
   ],
   "source": [
    "k = int(input(\"Enter the k value: \"))\n",
    "string = input(\"Enter the string: \")\n",
    "\n",
    "comp = []\n",
    "\n",
    "for i in range(len(string)-k+1):\n",
    "    comp.append(string[i:i+k])\n",
    "\n",
    "print('\\n'.join(comp))"
   ]
  },
  {
   "cell_type": "markdown",
   "metadata": {},
   "source": [
    "# ba3b"
   ]
  },
  {
   "cell_type": "code",
   "execution_count": 2,
   "metadata": {},
   "outputs": [
    {
     "name": "stdout",
     "output_type": "stream",
     "text": [
      "ACCGA\n",
      "CCGAA\n",
      "CGAAG\n",
      "GAAGC\n",
      "AAGCT\n",
      "quit\n",
      "ACCGAAGCT\n"
     ]
    }
   ],
   "source": [
    "def GenomePath(dna):\n",
    "\n",
    "    path = dna[0]\n",
    "    for kmer in dna[1:]:\n",
    "        path += kmer[len(kmer)-1:]\n",
    "\n",
    "    return path\n",
    "\n",
    "dna = []\n",
    "a = ''\n",
    "\n",
    "while True:\n",
    "    a = input()\n",
    "    if a=='quit':\n",
    "        break\n",
    "    dna.append(a)\n",
    "\n",
    "print(GenomePath(dna))\n",
    "\n",
    "#ACCGA\n",
    "#CCGAA\n",
    "#CGAAG\n",
    "#GAAGC\n",
    "#AAGCT"
   ]
  },
  {
   "cell_type": "markdown",
   "metadata": {},
   "source": [
    "# ba3c"
   ]
  },
  {
   "cell_type": "code",
   "execution_count": 3,
   "metadata": {},
   "outputs": [
    {
     "name": "stdout",
     "output_type": "stream",
     "text": [
      "ATGCG\n",
      "GCATG\n",
      "CATGC\n",
      "AGGCA\n",
      "GGCAT\n",
      "quit\n",
      "GCATG -> CATGC\n",
      "CATGC -> ATGCG\n",
      "AGGCA -> GGCAT\n",
      "GGCAT -> GCATG\n"
     ]
    }
   ],
   "source": [
    "# overlap graph\n",
    "dna = []\n",
    "a = ''\n",
    "\n",
    "while a != 'quit':\n",
    "    a = input()\n",
    "    if a=='quit':\n",
    "        break\n",
    "    dna.append(a)\n",
    "    \n",
    "l = len(dna)\n",
    "\n",
    "for i in range(l):\n",
    "    for j in range(l):\n",
    "        if i!=j:\n",
    "            if dna[i][1:] == dna[j][:-1]:\n",
    "                print(dna[i] + ' -> ' + dna[j])\n",
    "\n",
    "#ATGCG\n",
    "#GCATG\n",
    "#CATGC\n",
    "#AGGCA\n",
    "#GGCAT          "
   ]
  },
  {
   "cell_type": "markdown",
   "metadata": {},
   "source": [
    "# ba3d"
   ]
  },
  {
   "cell_type": "code",
   "execution_count": 4,
   "metadata": {},
   "outputs": [
    {
     "name": "stdout",
     "output_type": "stream",
     "text": [
      "Enter the key value: 4\n",
      "AAGATTCTCTAC\n",
      "AAG -> AGA\n",
      "AGA -> GAT\n",
      "ATT -> TTC\n",
      "CTA -> TAC\n",
      "CTC -> TCT\n",
      "GAT -> ATT\n",
      "TCT -> CTC,CTA\n",
      "TTC -> TCT\n"
     ]
    }
   ],
   "source": [
    "def DeBruijn(text, k):\n",
    "    result = {}\n",
    "    for i in range(len(text)-k+1):\n",
    "        if text[i:i+k-1] not in result.keys():\n",
    "            result[text[i:i+k-1]] = text[i+1:i+k]\n",
    "        else:\n",
    "            result[text[i:i+k-1]] += ',' + text[i+1:i+k]\n",
    "    return result\n",
    "\n",
    "        \n",
    "k = int(input(\"Enter the key value: \"))\n",
    "text = input()\n",
    "\n",
    "r = DeBruijn(text, k)\n",
    "\n",
    "for key in sorted(r.keys()):\n",
    "    print(key + ' -> ' + r[key])\n",
    "        \n",
    "#4\n",
    "#AAGATTCTCTAC"
   ]
  },
  {
   "cell_type": "markdown",
   "metadata": {},
   "source": [
    "# ba3e"
   ]
  },
  {
   "cell_type": "code",
   "execution_count": 5,
   "metadata": {},
   "outputs": [
    {
     "name": "stdout",
     "output_type": "stream",
     "text": [
      "GAGG\n",
      "CAGG\n",
      "GGGG\n",
      "GGGA\n",
      "CAGG\n",
      "AGGG\n",
      "GGAG\n",
      "quit\n",
      "AGG -> GGG\n",
      "CAG -> AGG,AGG\n",
      "GAG -> AGG\n",
      "GGA -> GAG\n",
      "GGG -> GGG,GGA\n"
     ]
    }
   ],
   "source": [
    "def debruijn(patterns):\n",
    "    result = {}\n",
    "    for kmer in patterns:\n",
    "        if kmer[:-1] not in result.keys():\n",
    "            result[kmer[:-1]] = kmer[1:]\n",
    "        else:\n",
    "            result[kmer[:-1]] += ','+ kmer[1:]\n",
    "    return result\n",
    "\n",
    "\n",
    "dna = []\n",
    "a = ''\n",
    "\n",
    "while a != 'quit':\n",
    "    a = input()\n",
    "    if a=='quit':\n",
    "        break\n",
    "    dna.append(a)\n",
    "    \n",
    "res = debruijn(dna)\n",
    "l = len(res)\n",
    "c = 0\n",
    "for kmer in sorted(res.keys()):\n",
    "    print(kmer+' -> '+res[kmer])\n",
    "    \n",
    "#GAGG\n",
    "#CAGG\n",
    "#GGGG\n",
    "#GGGA\n",
    "#CAGG\n",
    "#AGGG\n",
    "#GGAG"
   ]
  },
  {
   "cell_type": "markdown",
   "metadata": {},
   "source": [
    "# ba3f"
   ]
  },
  {
   "cell_type": "code",
   "execution_count": 6,
   "metadata": {},
   "outputs": [
    {
     "name": "stdout",
     "output_type": "stream",
     "text": [
      "0->3->2->6->8->7->9->6->5->4->2->1->0\n"
     ]
    }
   ],
   "source": [
    "from re import split\n",
    "\n",
    "def parse_adj_list(string):\n",
    "    adj_list = {}\n",
    "    for ss in string:        \n",
    "        temp = split(' -> ', ss)\n",
    "        adj_list[temp[0]] = temp[1].split(',')\n",
    "    return adj_list\n",
    "\n",
    "def EularianCycle(graph):\n",
    "    source = '1'\n",
    "    for i in graph.keys():\n",
    "        source = i\n",
    "        break\n",
    "    \n",
    "    curr_path, ecycle = [source], []\n",
    "    curr_node = source\n",
    "    while curr_path:\n",
    "        if len(graph[curr_node]):\n",
    "            curr_path.append(curr_node)\n",
    "            curr_node = graph[curr_node].pop()\n",
    "        else:\n",
    "            ecycle.append(curr_node)\n",
    "            curr_node = curr_path.pop()\n",
    "    ecycle.reverse()\n",
    "    \n",
    "    return ecycle\n",
    "\n",
    "\n",
    "string = ['0 -> 3','1 -> 0','2 -> 1,6','3 -> 2','4 -> 2','5 -> 4','6 -> 5,8','7 -> 9','8 -> 7','9 -> 6']\n",
    "\n",
    "graph = parse_adj_list(string)\n",
    "\n",
    "cycle = EularianCycle(graph)\n",
    "\n",
    "ans = '->'.join(cycle)\n",
    "\n",
    "print(ans)"
   ]
  },
  {
   "cell_type": "markdown",
   "metadata": {},
   "source": [
    "# ba3g"
   ]
  },
  {
   "cell_type": "code",
   "execution_count": 7,
   "metadata": {},
   "outputs": [
    {
     "name": "stdout",
     "output_type": "stream",
     "text": [
      "6->7->8->9->6->3->0->2->1->3->4\n"
     ]
    }
   ],
   "source": [
    "def parse_adj_list(adj_list_text):\n",
    "    adj_list = {}\n",
    "    for elem in adj_list_text:\n",
    "        temp = split(' -> ', elem)\n",
    "        adj_list[temp[0]] = temp[1].split(',')\n",
    "    return adj_list\n",
    "\n",
    "def eulerPath(dict):\n",
    "    stack = []\n",
    "    count = balance(dict)   \n",
    "    stack.append([k for k, v in count.items() if v==-1][0])\n",
    "    path = []\n",
    "    \n",
    "    while stack != []:\n",
    "        u = stack[-1]        \n",
    "        try:\n",
    "            v = dict[u][0]\n",
    "            stack.append(v)\n",
    "            dict[u].remove(v)\n",
    "        except:           \n",
    "            path.append(stack.pop())\n",
    "        \n",
    "    return path[::-1]\n",
    "\n",
    "def balance(adj):\n",
    "    count = dict.fromkeys(adj.keys(), 0)\n",
    "    for node in adj.keys():\n",
    "        for out in adj[node]:\n",
    "            count[node] -= 1\n",
    "            try:\n",
    "                count[out] += 1\n",
    "            except:\n",
    "                count[out] = 1\n",
    "    return count\n",
    "\n",
    "with open('rosalind_BA3G.txt') as f:\n",
    "    ls= f.read().splitlines()\n",
    "Adj_list = parse_adj_list(ls)\n",
    "print(\"->\".join(eulerPath(Adj_list)))"
   ]
  },
  {
   "cell_type": "markdown",
   "metadata": {},
   "source": [
    "# ba3h"
   ]
  },
  {
   "cell_type": "code",
   "execution_count": 11,
   "metadata": {},
   "outputs": [
    {
     "name": "stdout",
     "output_type": "stream",
     "text": [
      "4\n",
      "CTTA\n",
      "ACCA\n",
      "TACC\n",
      "GGCT\n",
      "GCTT\n",
      "TTAC\n",
      "quit\n",
      "GGCTTACCA\n"
     ]
    }
   ],
   "source": [
    "def debruijn(patterns):\n",
    "    kmers = []\n",
    "    for pattern in patterns:\n",
    "        kmers = kmers + composition(len(pattern), pattern, uniq=True)\n",
    "        \n",
    "    kmers = set(kmers)\n",
    "    res = {}\n",
    "    \n",
    "    for k in kmers:\n",
    "        res[k] = []\n",
    "        \n",
    "    for kmer in patterns:\n",
    "        res[prefix(kmer)].append(suffix(kmer))\n",
    "        \n",
    "    return res\n",
    "\n",
    "def GenomePath(reads):\n",
    "    path = reads[0]\n",
    "    for e in reads[1:]:\n",
    "        path += e[len(e)-1:]\n",
    "\n",
    "    return path\n",
    "\n",
    "def eulerPath(dict):\n",
    "    stack = []\n",
    "    count = balance(dict)   \n",
    "    stack.append([k for k, v in count.items() if v==-1][0])\n",
    "    path = []\n",
    "    \n",
    "    while stack != []:\n",
    "        u = stack[-1]        \n",
    "        try:\n",
    "            v = dict[u][0]\n",
    "            stack.append(v)\n",
    "            dict[u].remove(v)\n",
    "        except:           \n",
    "            path.append(stack.pop())\n",
    "        \n",
    "    return path[::-1]\n",
    "\n",
    "\n",
    "def composition(k, text, uniq=False):\n",
    "    kmers = []\n",
    "    for i in range(len(text)+1-k):\n",
    "        kmers.append(text[i:i+k-1])\n",
    "    if uniq:\n",
    "        return sorted(list(kmers))\n",
    "    else:\n",
    "        return sorted(kmers)\n",
    "\n",
    "def balance(adj):\n",
    "    count = dict.fromkeys(adj.keys(), 0)\n",
    "    for node in adj.keys():\n",
    "        for out in adj[node]:\n",
    "            count[node] -= 1\n",
    "            try:\n",
    "                count[out] += 1\n",
    "            except:\n",
    "                count[out] = 1\n",
    "    return count\n",
    "\n",
    "\n",
    "def suffix(string):\n",
    "    return string[1:]\n",
    "\n",
    "\n",
    "def prefix(string):\n",
    "    return string[0:-1]\n",
    "\n",
    "k = int(input())\n",
    "dna = []\n",
    "a = ''\n",
    "while True:\n",
    "    a = input()\n",
    "    if a == 'quit':\n",
    "        break\n",
    "    dna.append(a)\n",
    "\n",
    "ans = GenomePath(eulerPath(debruijn(dna)))\n",
    "print(ans)\n",
    "    \n",
    "#4\n",
    "#CTTA\n",
    "#ACCA\n",
    "#TACC\n",
    "#GGCT\n",
    "#GCTT\n",
    "#TTAC"
   ]
  },
  {
   "cell_type": "markdown",
   "metadata": {},
   "source": [
    "# ba3i"
   ]
  },
  {
   "cell_type": "code",
   "execution_count": 9,
   "metadata": {},
   "outputs": [
    {
     "name": "stdout",
     "output_type": "stream",
     "text": [
      "0001111011001010\n"
     ]
    }
   ],
   "source": [
    "def deBruijn_graph_kmers(patterns):\n",
    "    adj_list = {}\n",
    "    for pattern in patterns:\n",
    "        if pattern[:-1] not in adj_list:\n",
    "            adj_list[pattern[:-1]] = [pattern[1:]]\n",
    "        else:\n",
    "            adj_list[pattern[:-1]].append(pattern[1:])\n",
    "    return adj_list\n",
    "  \n",
    "def k_universal_circular_string(k):\n",
    "    kmers = []\n",
    "    for i in range(2 ** k):\n",
    "        kmer = str(bin(i))[2:]\n",
    "        if len(kmer) != k:\n",
    "            kmer = '0' * (k - len(kmer)) + kmer\n",
    "        kmers.append(kmer)\n",
    "\n",
    "    adj_list = deBruijn_graph_kmers(kmers)\n",
    "    cycle = EularianCycle(adj_list)\n",
    "\n",
    "    cycle = cycle[:len(cycle) - k + 1]\n",
    "    string = cycle[0][:-1]\n",
    "    for r in cycle:\n",
    "        string += r[-1]\n",
    "    return string\n",
    "\n",
    "k = 4\n",
    "print(k_universal_circular_string(k))"
   ]
  },
  {
   "cell_type": "markdown",
   "metadata": {},
   "source": [
    "# ba3j"
   ]
  },
  {
   "cell_type": "code",
   "execution_count": 10,
   "metadata": {},
   "outputs": [
    {
     "name": "stdout",
     "output_type": "stream",
     "text": [
      "GTGGTCGTGAGATGTTGA\n"
     ]
    }
   ],
   "source": [
    "from collections import defaultdict\n",
    "def deBruijn_graph_paired_reads(paired_reads):\n",
    "    adj_list = defaultdict(list)\n",
    "    for pair in paired_reads:\n",
    "        adj_list[(pair[0][:-1], pair[1][:-1])].append((pair[0][1:], pair[1][1:]))\n",
    "    return adj_list\n",
    "\n",
    "def StringSpelledByGappedPatterns(GappedPatterns, k, d):\n",
    "    prefix_string = ''\n",
    "    suffix_string = ''\n",
    "    for i, pattern_pair in enumerate(GappedPatterns):\n",
    "        if i != len(GappedPatterns) - 1:\n",
    "            prefix_string += pattern_pair[0][0]\n",
    "            suffix_string += pattern_pair[1][0]\n",
    "        else:\n",
    "            prefix_string += pattern_pair[0]\n",
    "            suffix_string += pattern_pair[1]\n",
    "    for i in range(k + d + 1, len(prefix_string)):\n",
    "        if prefix_string[i] != suffix_string[i - k - d - 1]:\n",
    "            return -1\n",
    "    return prefix_string + suffix_string[len(suffix_string) - k - d - 1:]\n",
    "\n",
    "\n",
    "def string_reconstruction_read_pairs(k, d, paired_reads):\n",
    "    adj_list = deBruijn_graph_paired_reads(paired_reads)\n",
    "    path = eulerPath(adj_list)\n",
    "    return StringSpelledByGappedPatterns(path, k - 1, d)\n",
    "\n",
    "\n",
    "with open('rosalind_BA3J.txt') as f:\n",
    "    ls= f.read().splitlines()\n",
    "    k, d = [int(x) for x in ls[0].split()]\n",
    "\n",
    "\n",
    "PairedReads = []\n",
    "for line in ls[1:]:\n",
    "    PairedReads.append(line.split(\"|\"))\n",
    "\n",
    "print(string_reconstruction_read_pairs(k, d, PairedReads))"
   ]
  },
  {
   "cell_type": "markdown",
   "metadata": {},
   "source": [
    "# ba3l"
   ]
  },
  {
   "cell_type": "code",
   "execution_count": 12,
   "metadata": {},
   "outputs": [
    {
     "name": "stdout",
     "output_type": "stream",
     "text": [
      "GACCGAGCGCCGGA\n"
     ]
    }
   ],
   "source": [
    "with open('rosalind_BA3L.txt') as f:\n",
    "    ls= f.read().splitlines()\n",
    "    k, d = [int(x) for x in ls[0].split()]\n",
    "Gapped_Patterns = []\n",
    "for line in ls[1:]:\n",
    "    Gapped_Patterns.append(line.split(\"|\"))\n",
    "\n",
    "print(StringSpelledByGappedPatterns(Gapped_Patterns, k - 1, d))"
   ]
  },
  {
   "cell_type": "code",
   "execution_count": null,
   "metadata": {},
   "outputs": [],
   "source": []
  }
 ],
 "metadata": {
  "kernelspec": {
   "display_name": "Python 3",
   "language": "python",
   "name": "python3"
  },
  "language_info": {
   "codemirror_mode": {
    "name": "ipython",
    "version": 3
   },
   "file_extension": ".py",
   "mimetype": "text/x-python",
   "name": "python",
   "nbconvert_exporter": "python",
   "pygments_lexer": "ipython3",
   "version": "3.8.5"
  }
 },
 "nbformat": 4,
 "nbformat_minor": 4
}

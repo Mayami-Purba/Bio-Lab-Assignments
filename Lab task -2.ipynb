{
 "cells": [
  {
   "cell_type": "markdown",
   "metadata": {},
   "source": [
    "# Subtask-1"
   ]
  },
  {
   "cell_type": "code",
   "execution_count": 12,
   "metadata": {},
   "outputs": [
    {
     "name": "stdout",
     "output_type": "stream",
     "text": [
      "Enter the DNA Strings: AAAACCCGGT\n",
      "ACCGGGTTTT\n"
     ]
    }
   ],
   "source": [
    "dna = input(\"Enter the DNA Strings: \")\n",
    "\n",
    "complement = {'A':'T' , 'C':'G' , 'T':'A' , 'G':'C'}\n",
    "    \n",
    "rc=\"\"\n",
    "\n",
    "for letter in dna:\n",
    "    rc += complement[letter]\n",
    "    \n",
    "rc = reversed(rc)  \n",
    "print(\"\".join(rc))\n"
   ]
  },
  {
   "cell_type": "markdown",
   "metadata": {},
   "source": [
    "# Subtask-2"
   ]
  },
  {
   "cell_type": "code",
   "execution_count": 14,
   "metadata": {},
   "outputs": [
    {
     "name": "stdout",
     "output_type": "stream",
     "text": [
      "Enter the 1st string: GGGCCGTTGGT\n",
      "Enter the 2nd string: GGACCGTTGAC\n",
      "\n",
      "3\n"
     ]
    }
   ],
   "source": [
    "dna1 = input(\"Enter the 1st string: \")\n",
    "dna2 = input(\"Enter the 2nd string: \")\n",
    "\n",
    "d=0\n",
    "\n",
    "for i in range(len(dna1)):\n",
    "    if dna1[i] != dna2[i]:\n",
    "        d += 1\n",
    "print()\n",
    "print(d)\n",
    "    "
   ]
  },
  {
   "cell_type": "markdown",
   "metadata": {},
   "source": [
    "# Subtask-3"
   ]
  },
  {
   "cell_type": "code",
   "execution_count": 3,
   "metadata": {},
   "outputs": [
    {
     "name": "stdout",
     "output_type": "stream",
     "text": [
      "Enter the pattern: ATTCTGGA\n",
      "Enter the text: CGCCCGAATCCAGAACGCATTCCCATATTTCGGGACCACTGGCCTCCACGGTACGGACGTCAATCAAATGCCTAGCGGCTTGTGGTTTCTCCTACGCTCC\n",
      "Enter the hamming distance: 3\n",
      "6 7 26 27 78 "
     ]
    }
   ],
   "source": [
    "def HammingDistance(s1,s2):\n",
    "    d=0\n",
    "    for i in range(len(s1)):\n",
    "        if s1[i] != s2[i]:\n",
    "            d += 1\n",
    "    return d\n",
    "\n",
    "pattern = input(\"Enter the pattern: \")\n",
    "text = input(\"Enter the text: \")\n",
    "d = int(input(\"Enter the hamming distance: \"))\n",
    "\n",
    "plen = len(pattern)\n",
    "tlen = len(text)\n",
    "\n",
    "\n",
    "for i in range (tlen-plen+1):\n",
    "    if HammingDistance(pattern , text[i:i+plen]) <=d:\n",
    "        print(i , end = \" \")\n",
    "\n",
    "    \n",
    "    "
   ]
  },
  {
   "cell_type": "markdown",
   "metadata": {},
   "source": [
    "# Subtask-4"
   ]
  },
  {
   "cell_type": "code",
   "execution_count": 39,
   "metadata": {},
   "outputs": [
    {
     "name": "stdout",
     "output_type": "stream",
     "text": [
      "Enter the text: ACGTTGCATGTCGCATGATGCATGAGAGCT\n",
      "Enter the k-value: 4\n",
      "Enter the hamming distance: 1\n",
      " \n",
      "ATGT GATG ATGC\n"
     ]
    }
   ],
   "source": [
    "def HammingDistance(s1,s2):\n",
    "    d=0\n",
    "    for i in range(k):\n",
    "        if s1[i] != s2[i]:\n",
    "            d += 1\n",
    "    return d\n",
    "\n",
    "def ReverseCompliment(dna):\n",
    "    complement = {'A':'T' , 'C':'G' , 'T':'A' , 'G':'C'}\n",
    "    rc=\"\"\n",
    "    for letter in dna:\n",
    "        rc += complement[letter]\n",
    "    \n",
    "    rc = reversed(rc)  \n",
    "    return (\"\".join(rc))\n",
    "\n",
    "\n",
    "text = input(\"Enter the text: \")\n",
    "k = int(input(\"Enter the k-value: \"))\n",
    "d = int(input(\"Enter the hamming distance: \"))\n",
    "\n",
    "pattern = {}\n",
    "tlen = len(text)\n",
    "\n",
    "for i in range(tlen-k+1):\n",
    "    if text[i:i+k] not in pattern:\n",
    "        pattern[text[i:i+k]] = 1\n",
    "    else:    \n",
    "        pattern[text[i:i+k]] += 1\n",
    "\n",
    "\n",
    "update = {}\n",
    "l1=[]\n",
    "\n",
    "for key in pattern.keys():\n",
    "    l1.append(key)\n",
    "\n",
    "\n",
    "list_len = len(l1)\n",
    "\n",
    "for i in range(list_len):\n",
    "    count = 0\n",
    "    for j in range(list_len):\n",
    "        if HammingDistance(l1[i],l1[j]) <= d:           \n",
    "            freqmer=l1[j]\n",
    "            count += pattern.get(freqmer)\n",
    "            \n",
    "    update[l1[i]] = count\n",
    "    \n",
    "#print()\n",
    "#print(update)\n",
    "\n",
    "max_count = max(update.values())\n",
    "\n",
    "#print(max_count)\n",
    "#print()\n",
    "\n",
    "kmer = []\n",
    "\n",
    "for i in update:\n",
    "    if update[i] == max_count:\n",
    "        kmer.append(i)\n",
    "\n",
    "\n",
    "output = ' '.join(kmer)\n",
    "print(\" \")\n",
    "print(output)\n"
   ]
  },
  {
   "cell_type": "markdown",
   "metadata": {},
   "source": [
    "# Subtask-5"
   ]
  },
  {
   "cell_type": "code",
   "execution_count": 6,
   "metadata": {},
   "outputs": [
    {
     "name": "stdout",
     "output_type": "stream",
     "text": [
      "Enter the text: ACGTTGCATGTCGCATGATGCATGAGAGCT\n",
      "Enter the k-value: 4\n",
      "Enter the hamming distance: 1\n",
      "ACAT ATGT "
     ]
    }
   ],
   "source": [
    "from collections import defaultdict\n",
    "\n",
    "def HammingDistance(s1, s2):\n",
    "    d=0\n",
    "    for i in range(len(s1)):\n",
    "        if s1[i]!=s2[i]:\n",
    "            d += 1\n",
    "    \n",
    "    return d\n",
    "        \n",
    "\n",
    "\n",
    "def ReversePattern(dna):\n",
    "    complement = {'A':'T' , 'C':'G' , 'T':'A' , 'G':'C'}\n",
    "    rc=\"\"\n",
    "    for letter in dna:\n",
    "        rc += complement[letter]\n",
    "    \n",
    "    rc = reversed(rc)  \n",
    "    return (\"\".join(rc))\n",
    "\n",
    "def neighbour(pattern, mismatch, words):\n",
    "    if mismatch == 0:\n",
    "        words.add(pattern)\n",
    "    else:\n",
    "        bases = ['A', 'T', 'C', 'G']\n",
    "        for i in range(len(pattern)):\n",
    "            for j in range(len(bases)):\n",
    "                new_pattern = pattern[:i] + bases[j] + pattern[i+1:]\n",
    "                if mismatch <= 1:\n",
    "                    words.add(new_pattern)\n",
    "                else:\n",
    "                    neighbour(new_pattern, mismatch-1, words)\n",
    "\n",
    "def FindMostFrequentPattern(text, k, d):\n",
    "    allfrequentwords = defaultdict(int)\n",
    "    for i in range(len(text) - k + 1):\n",
    "        frequentwords = set()\n",
    "        neighbour(text[i:i + k], d, frequentwords)\n",
    "\n",
    "        for words in frequentwords:\n",
    "            allfrequentwords[words] += 1\n",
    "\n",
    "    for t in allfrequentwords.keys():\n",
    "        reverse_k = ReversePattern(t)\n",
    "        for i in range(len(text) - k + 1):\n",
    "            if HammingDistance(text[i:i + k], reverse_k) <= d:\n",
    "                allfrequentwords[t] += 1\n",
    "\n",
    "    result = set()\n",
    "    for t in allfrequentwords.keys():\n",
    "        if allfrequentwords[t] == max(allfrequentwords.values()):\n",
    "            result.add(t)\n",
    "            result.add(ReversePattern(t))\n",
    "    for i in result:\n",
    "        print(i, end=\" \")\n",
    "        \n",
    "\n",
    "\n",
    "text = input(\"Enter the text: \")\n",
    "k = int(input(\"Enter the k-value: \"))\n",
    "d = int(input(\"Enter the hamming distance: \"))        \n",
    "FindMostFrequentPattern(text, k, d)"
   ]
  },
  {
   "cell_type": "markdown",
   "metadata": {},
   "source": [
    "# Subtask-6"
   ]
  },
  {
   "cell_type": "code",
   "execution_count": 36,
   "metadata": {},
   "outputs": [
    {
     "name": "stdout",
     "output_type": "stream",
     "text": [
      "Enter the pattern: AGT\n",
      "11\n"
     ]
    }
   ],
   "source": [
    "pattern = input(\"Enter the pattern: \")\n",
    "\n",
    "l = len(pattern)\n",
    "number = 0\n",
    "\n",
    "letter = {'A':0, 'C':1, 'G':2, 'T':3}\n",
    "\n",
    "for i in range(l):\n",
    "    number += letter[pattern[i]] * pow(4,l-i-1)\n",
    "   \n",
    "print(number)   "
   ]
  },
  {
   "cell_type": "markdown",
   "metadata": {},
   "source": [
    "# Subtask-7"
   ]
  },
  {
   "cell_type": "code",
   "execution_count": 41,
   "metadata": {},
   "outputs": [
    {
     "name": "stdout",
     "output_type": "stream",
     "text": [
      "Enter the indes value: 45\n",
      "Enter the k-value: 4\n",
      "AGTC\n"
     ]
    }
   ],
   "source": [
    "index = int(input(\"Enter the indes value: \"))\n",
    "k = int(input(\"Enter the k-value: \"))\n",
    "\n",
    "bases = ['A', 'C', 'G', 'T']\n",
    "pattern = ''\n",
    "for i in range(k):       \n",
    "    pattern += bases[index % 4]\n",
    "    index = index // 4\n",
    "    \n",
    "pattern =\"\".join(reversed(pattern))\n",
    "\n",
    "print(pattern)\n"
   ]
  }
 ],
 "metadata": {
  "kernelspec": {
   "display_name": "Python 3",
   "language": "python",
   "name": "python3"
  },
  "language_info": {
   "codemirror_mode": {
    "name": "ipython",
    "version": 3
   },
   "file_extension": ".py",
   "mimetype": "text/x-python",
   "name": "python",
   "nbconvert_exporter": "python",
   "pygments_lexer": "ipython3",
   "version": "3.8.5"
  }
 },
 "nbformat": 4,
 "nbformat_minor": 4
}

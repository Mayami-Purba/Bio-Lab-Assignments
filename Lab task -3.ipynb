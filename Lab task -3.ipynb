{
 "cells": [
  {
   "cell_type": "markdown",
   "metadata": {},
   "source": [
    "# Task-1"
   ]
  },
  {
   "cell_type": "code",
   "execution_count": 19,
   "metadata": {},
   "outputs": [
    {
     "name": "stdout",
     "output_type": "stream",
     "text": [
      "Enter the DNA string: CCTATCGGTGGATTAGCATGTCCCTGTACGTTTCGCCGCGAACTAGTTCACACGGCTTGATGGCAAATGGTTTTTCCGGCGACCGTAATCGTCCACCGAG\n",
      "53 97 "
     ]
    }
   ],
   "source": [
    "genome = input(\"Enter the DNA string: \")\n",
    "skew = [0]\n",
    "l= len(genome)\n",
    "\n",
    "for i in range(l):\n",
    "    if genome[i] == 'C':\n",
    "        skew.append(skew[-1]-1)\n",
    "    elif genome[i] == 'G':\n",
    "        skew.append(skew[-1]+1)\n",
    "    else:\n",
    "        skew.append(skew[-1])\n",
    "        \n",
    "    \n",
    "#print(skew)\n",
    "mn = min(skew)\n",
    "#print(mn)\n",
    "\n",
    "for i in range(len(skew)):\n",
    "    if skew[i] == mn:\n",
    "        print(i,end= \" \")\n",
    "\n",
    "\n",
    "        "
   ]
  },
  {
   "cell_type": "markdown",
   "metadata": {},
   "source": [
    "# Task-2"
   ]
  },
  {
   "cell_type": "code",
   "execution_count": 25,
   "metadata": {},
   "outputs": [
    {
     "name": "stdout",
     "output_type": "stream",
     "text": [
      "Enter the DNA string: CGGACTCGACAGATGTGAAGAAATGTGAAGACTGAGTGAAGAGAAGAGGAAACACGACACGACATTGCGACATAATGTACGAATGTAATGTGCCTATGGC\n",
      "Enter the k: 5\n",
      "Enter the L: 75\n",
      "Enter the t: 4\n",
      "CGACA AATGT GAAGA\n"
     ]
    }
   ],
   "source": [
    "dna = input(\"Enter the DNA string: \")\n",
    "k = int(input(\"Enter the k: \"))\n",
    "L = int(input(\"Enter the L: \"))\n",
    "t = int(input(\"Enter the t: \"))\n",
    "\n",
    "l = len(dna)\n",
    "final = []\n",
    "\n",
    "for i in range(l-L+1):\n",
    "    for j in range(i,i+L-k):\n",
    "            if dna[i:i+L].count(dna[j:j+k]) == t:\n",
    "                final.append(dna[j:j+k])\n",
    "\n",
    "#print(final)\n",
    "final = set(final)\n",
    "print(\" \".join(final))"
   ]
  },
  {
   "cell_type": "markdown",
   "metadata": {},
   "source": [
    "# Task-3"
   ]
  },
  {
   "cell_type": "code",
   "execution_count": 8,
   "metadata": {},
   "outputs": [
    {
     "name": "stdout",
     "output_type": "stream",
     "text": [
      "3\n",
      "AAATTGACGCAT\n",
      "GACGACCACGTT\n",
      "CGTCAGCGCCTG\n",
      "GCTGAGCACCGG\n",
      "AGTACGGGACAG\n",
      "ACG\n"
     ]
    }
   ],
   "source": [
    "def GenPattern(k):\n",
    "    bases = ['A', 'C', 'G', 'T']\n",
    "    array = bases\n",
    "    for n in range(k-1):\n",
    "        array = [i+j for i in array for j in bases]\n",
    "    return array\n",
    "\n",
    "def MinHammingDistance(pattern, string):\n",
    "    min_distance = len(pattern)\n",
    "    for i in range(len(string) - len(pattern) + 1):\n",
    "        distance = sum([1 for j in range(len(pattern)) if pattern[j] != string[i:i+len(pattern)][j]])\n",
    "        if distance < min_distance:\n",
    "            min_distance = distance\n",
    "    return min_distance\n",
    "\n",
    "\n",
    "k = int(input())\n",
    "\n",
    "dna1 = input()\n",
    "dna2 = input()\n",
    "dna3 = input()\n",
    "dna4 = input()\n",
    "dna5 = input()\n",
    "\n",
    "dna = [dna1,dna2,dna3,dna4,dna5]\n",
    "\n",
    "pattern = GenPattern(k) \n",
    "dis1 = {}\n",
    "min_string = len(dna) * len(pattern)\n",
    "\n",
    "for i in pattern:\n",
    "    dist = 0\n",
    "    for j in range(len(dna)):\n",
    "        dist += MinHammingDistance(i, dna[j])\n",
    "    dis1[i] = dist\n",
    "    if dist < min_string:\n",
    "        min_string = dist\n",
    "p=0;\n",
    "\n",
    "for t in dis1.keys():\n",
    "    if dis1[t] == min_string:\n",
    "        p += 1\n",
    "        print(t)\n",
    "    if p == 1:\n",
    "        break\n",
    "        \n",
    "\n",
    "\n",
    "#3\n",
    "#AAATTGACGCAT\n",
    "#GACGACCACGTT\n",
    "#CGTCAGCGCCTG\n",
    "#GCTGAGCACCGG\n",
    "#AGTACGGGACAG"
   ]
  },
  {
   "cell_type": "markdown",
   "metadata": {},
   "source": [
    "# Task-4"
   ]
  },
  {
   "cell_type": "code",
   "execution_count": 23,
   "metadata": {},
   "outputs": [
    {
     "name": "stdout",
     "output_type": "stream",
     "text": [
      "Enter the text: ACCTGTTTATTGCCTAAGTTCCGAACAAACCCAATATAGCCCGAGGGCCT\n",
      "Enter the key value: 5\n",
      "0.2\n",
      "0.2\n",
      "0.3\n",
      "0.2\n",
      "0.3\n",
      "0.4\n",
      "0.3\n",
      "0.1\n",
      "0.5\n",
      "0.1\n",
      "0.3\n",
      "0.3\n",
      "0.5\n",
      "0.2\n",
      "0.4\n",
      "0.1\n",
      "0.2\n",
      "0.1\n",
      "0.1\n",
      "0.2\n",
      "CCTGT\n"
     ]
    }
   ],
   "source": [
    "def probable(text,matrix):\n",
    "    count = 1\n",
    "    for i in range(len(text)):\n",
    "        if text[i] == 'A':\n",
    "            count *= matrix[0][i]\n",
    "        if text[i] == 'C':\n",
    "            count *= matrix[1][i]\n",
    "        if text[i] == 'G':\n",
    "            count *= matrix[2][i]\n",
    "        if text[i] == 'T':\n",
    "            count *= matrix[3][i]\n",
    "            \n",
    "        return count\n",
    "    \n",
    "#text = 'ACCTGTTTATTGCCTAAGTTCCGAACAAACCCAATATAGCCCGAGGGCCT'\n",
    "#k = 5\n",
    "#matrix = [[0.2, 0.2, 0.3, 0.2, 0.3], [0.4, 0.3, 0.1, 0.5, 0.1], [0.3, 0.3, 0.5, 0.2, 0.4], [0.1, 0.2, 0.1, 0.1, 0.2]]\n",
    "\n",
    "text = input(\"Enter the text: \")\n",
    "k = int(input(\"Enter the key value: \"))\n",
    "matrix = []\n",
    "\n",
    "for i in range(4):\n",
    "    a = []\n",
    "    for j in range(k):\n",
    "        a.append(float(input()))\n",
    "    matrix.append(a)\n",
    "\n",
    "lt = {}\n",
    "for i in range(len(text) - k + 1):\n",
    "    lt[text[i:i + k]] = probable(text[i:i + k], matrix)\n",
    "    \n",
    "most = sorted(lt.items(), key=lambda x:x[1], reverse=True)[0][0]\n",
    "\n",
    "\n",
    "print(most)"
   ]
  },
  {
   "cell_type": "markdown",
   "metadata": {},
   "source": [
    "# Task-5"
   ]
  },
  {
   "cell_type": "code",
   "execution_count": 1,
   "metadata": {},
   "outputs": [
    {
     "name": "stdout",
     "output_type": "stream",
     "text": [
      "3\n",
      "5\n",
      "GGCGTTCAGGCA\n",
      "AAGAATCAGTCA\n",
      "CAAGGAGTTCGC\n",
      "CACGTCAATCAC\n",
      "CAATAATATTCG\n",
      "CAG\n",
      "CAG\n",
      "CAA\n",
      "CAA\n",
      "CAA\n"
     ]
    }
   ],
   "source": [
    "def Probable(string, matrix):\n",
    "    count = 1\n",
    "    for i in range(len(string)):\n",
    "        if string[i] == 'A':\n",
    "            count *= matrix[0][i]\n",
    "        if string[i] == 'C':\n",
    "            count *= matrix[1][i]\n",
    "        if string[i] == 'G':\n",
    "            count *= matrix[2][i]\n",
    "        if string[i] == 'T':\n",
    "            count *= matrix[3][i]\n",
    "    return count\n",
    "\n",
    "def MostProbable(string, k, matrix):\n",
    "    lt = {}\n",
    "    for i in range(len(string)-k+1):\n",
    "        lt[string[i:i+k]] = Probable(string[i:i+k], matrix)\n",
    "    most = sorted(lt.items(), key=lambda x:x[1], reverse=True)[0][0]\n",
    "    \n",
    "    return most\n",
    "\n",
    "\n",
    "def Score(motifs):\n",
    "    s = 0\n",
    "    for i in range(len(motifs[0])):\n",
    "        j = []\n",
    "        for mt in motifs:\n",
    "            j.append(mt[i])\n",
    "        s += (len(j) - max(j.count(\"A\"), j.count(\"C\"), j.count(\"T\"), j.count(\"G\")))\n",
    "    return s\n",
    "\n",
    "\n",
    "def GreedyMotifSearch(Dna, k, t):\n",
    "\n",
    "    BestMotifs = []\n",
    "    for dna in Dna:\n",
    "        BestMotifs.append(dna[:k])\n",
    "    \n",
    "    Motifs = []\n",
    "    \n",
    "    for i in range(len(Dna[0])-k+1):\n",
    "        for kmer in [Dna[0][i : i+k]]:\n",
    "            NewMotifs = [kmer] \n",
    "            for i in range(1, t):          \n",
    "                motifs = NewMotifs[:i]\n",
    "                matrix = []\n",
    "                for lt in [\"A\", \"C\", \"G\", \"T\"]:\n",
    "                    mat = []\n",
    "                    for j in range(k):\n",
    "                        mm = []\n",
    "                        for mt in motifs:\n",
    "                            mm.append(mt[j])\n",
    "                        mat.append(mm.count(lt)/len(motifs))\n",
    "                    matrix.append(mat)\n",
    "                            \n",
    "                NewMotifs.append(MostProbable(Dna[i], k, matrix))\n",
    "                \n",
    "            if Score(NewMotifs) < Score(BestMotifs):               \n",
    "                BestMotifs = NewMotifs\n",
    "    \n",
    "    return BestMotifs\n",
    "\n",
    "\n",
    "\n",
    "k = int(input())\n",
    "t = int(input())\n",
    "Dna = []\n",
    "\n",
    "for i in range(t):\n",
    "    a = input()\n",
    "    Dna.append(a)\n",
    "    \n",
    "BestMotifs = GreedyMotifSearch(Dna, k ,t)\n",
    "\n",
    "for i in range(len(BestMotifs)):\n",
    "    print(\"\".join(BestMotifs[i]))\n",
    "\n",
    "\n",
    "#3\n",
    "#5\n",
    "#GGCGTTCAGGCA\n",
    "#AAGAATCAGTCA\n",
    "#CAAGGAGTTCGC\n",
    "#CACGTCAATCAC\n",
    "#CAATAATATTCG"
   ]
  },
  {
   "cell_type": "code",
   "execution_count": null,
   "metadata": {},
   "outputs": [],
   "source": []
  }
 ],
 "metadata": {
  "kernelspec": {
   "display_name": "Python 3",
   "language": "python",
   "name": "python3"
  },
  "language_info": {
   "codemirror_mode": {
    "name": "ipython",
    "version": 3
   },
   "file_extension": ".py",
   "mimetype": "text/x-python",
   "name": "python",
   "nbconvert_exporter": "python",
   "pygments_lexer": "ipython3",
   "version": "3.8.5"
  }
 },
 "nbformat": 4,
 "nbformat_minor": 4
}

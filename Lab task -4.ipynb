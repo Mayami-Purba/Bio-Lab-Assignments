{
 "cells": [
  {
   "cell_type": "markdown",
   "metadata": {},
   "source": [
    "# Task-1"
   ]
  },
  {
   "cell_type": "code",
   "execution_count": 6,
   "metadata": {},
   "outputs": [
    {
     "name": "stdout",
     "output_type": "stream",
     "text": [
      "8\n",
      "5\n",
      "CGCCCCTCTCGGGGGTGTTCAGTAAACGGCCA\n",
      "GGGCGAGGTATGTGTAAGTGCCAAGGTGCCAG\n",
      "TAGTACCGAGACCGAAAGAAGTATACAGGCGT\n",
      "TAGATCAAGTTTCAGGTGCACGTCGGTGAACC\n",
      "AATCCACCAGCTCCACGTGCAATGTTGGCCTA\n",
      "TCTCGGGG\n",
      "CCAAGGTG\n",
      "TACAGGCG\n",
      "TTCAGGTG\n",
      "TCCACGTG\n"
     ]
    }
   ],
   "source": [
    "import random\n",
    "N = 1000\n",
    "\n",
    "\n",
    "def Probable(string, matrix):\n",
    "    count = 1\n",
    "    for i in range(len(string)):\n",
    "        if string[i] == 'A':\n",
    "            count *= matrix[0][i]\n",
    "        if string[i] == 'C':\n",
    "            count *= matrix[1][i]\n",
    "        if string[i] == 'G':\n",
    "            count *= matrix[2][i]\n",
    "        if string[i] == 'T':\n",
    "            count *= matrix[3][i]\n",
    "    return count\n",
    "\n",
    "def MostProbable(string, k, matrix):\n",
    "    lt = {}\n",
    "    for i in range(len(string)-k+1):\n",
    "        lt[string[i:i+k]] = Probable(string[i:i+k], matrix)\n",
    "    most = sorted(lt.items(), key=lambda x:x[1], reverse=True)[0][0]\n",
    "    \n",
    "    return most\n",
    "\n",
    "\n",
    "def Score(motifs):\n",
    "    s = 0\n",
    "    for i in range(len(motifs[0])):\n",
    "        j = []\n",
    "        for mt in motifs:\n",
    "            j.append(mt[i])\n",
    "        s += (len(j) - max(j.count(\"A\"), j.count(\"C\"), j.count(\"T\"), j.count(\"G\")))\n",
    "    return s\n",
    "\n",
    "def RandomizeMotifSearch(Dna,k,t):\n",
    "    Motifs = []\n",
    "\n",
    "    for i in range(t):\n",
    "        n = len(Dna[i])\n",
    "        x = random.randint(0, n-k)\n",
    "        Motifs.append(Dna[i][x:x+k])\n",
    "    \n",
    "    bestMotifs = Motifs\n",
    "    \n",
    "    while True:\n",
    "        profile = []\n",
    "        \n",
    "        letter = ['A' , 'C' ,'G','T']\n",
    "        \n",
    "        for ch in letter:\n",
    "            pr = []\n",
    "            for i in range(k):\n",
    "                prof = []\n",
    "                for mt in Motifs:\n",
    "                    prof.append(mt[i])                    \n",
    "                result = (prof.count(ch)+1/len(Motifs)*2)\n",
    "                pr.append(result)\n",
    "            profile.append(pr)\n",
    "        \n",
    "        for i in range(t):\n",
    "            Motifs[i] = MostProbable(Dna[i], k, profile)\n",
    "        \n",
    "        if Score(Motifs) < Score(bestMotifs):\n",
    "            bestMotifs = Motifs\n",
    "            \n",
    "        return bestMotifs\n",
    "    \n",
    "\n",
    "k = int(input())\n",
    "t = int(input())\n",
    "Dna = []\n",
    "\n",
    "for i in range(t):\n",
    "    a = input()\n",
    "    Dna.append(a)\n",
    "    \n",
    "    \n",
    "M = RandomizeMotifSearch(Dna, k, t)\n",
    "bMotifs = M\n",
    "\n",
    "for i in range(N):\n",
    "    M = RandomizeMotifSearch(Dna, k, t)\n",
    "    if Score(M) < Score(bMotifs):\n",
    "         bMotifs = M\n",
    "    else:\n",
    "        bestMotifs = bMotifs\n",
    "\n",
    "print ('\\n'.join(bestMotifs))\n",
    "#8 5\n",
    "#CGCCCCTCTCGGGGGTGTTCAGTAAACGGCCA\n",
    "#GGGCGAGGTATGTGTAAGTGCCAAGGTGCCAG\n",
    "#TAGTACCGAGACCGAAAGAAGTATACAGGCGT\n",
    "#TAGATCAAGTTTCAGGTGCACGTCGGTGAACC\n",
    "#AATCCACCAGCTCCACGTGCAATGTTGGCCTA"
   ]
  },
  {
   "cell_type": "markdown",
   "metadata": {},
   "source": [
    "# Task-2"
   ]
  },
  {
   "cell_type": "code",
   "execution_count": 6,
   "metadata": {},
   "outputs": [
    {
     "name": "stdout",
     "output_type": "stream",
     "text": [
      "8\n",
      "5\n",
      "100\n",
      "CGCCCCTCTCGGGGGTGTTCAGTAAACGGCCA\n",
      "GGGCGAGGTATGTGTAAGTGCCAAGGTGCCAG\n",
      "TAGTACCGAGACCGAAAGAAGTATACAGGCGT\n",
      "TAGATCAAGTTTCAGGTGCACGTCGGTGAACC\n",
      "AATCCACCAGCTCCACGTGCAATGTTGGCCTA\n",
      "TCTCGGGG\n",
      "TGCCAAGG\n",
      "AAAGAAGT\n",
      "GTTTCAGG\n",
      "ATCCACCA\n"
     ]
    }
   ],
   "source": [
    "import random\n",
    "N = 20\n",
    "\n",
    "\n",
    "def Probability(string, matrix):\n",
    "    count = 1\n",
    "    for i in range(len(string)):\n",
    "        if string[i] == 'A':\n",
    "            count *= matrix[0][i]\n",
    "        if string[i] == 'C':\n",
    "            count *= matrix[1][i]\n",
    "        if string[i] == 'G':\n",
    "            count *= matrix[2][i]\n",
    "        if string[i] == 'T':\n",
    "            count *= matrix[3][i]\n",
    "    return count\n",
    "\n",
    "\n",
    "def randomGenerateKmer(text,k,profile):\n",
    "    x = len(text)-k+1\n",
    "    kmer = []\n",
    "    for i in range(x):\n",
    "        kmer.append(text[i:i+k])\n",
    "        \n",
    "    #sum =0;\n",
    "    pr = []\n",
    "    for i in range(x):\n",
    "        r = Probability(kmer[i],profile)\n",
    "        pr.append(r)\n",
    "\n",
    "    ind = index(pr,x)\n",
    "    return kmer[ind]\n",
    "    \n",
    "def index(pr,x):\n",
    "    random.seed()\n",
    "    \n",
    "    a = random.random() * sum(pr)\n",
    "    sum_pr = 0;\n",
    "    for i in range(x-1):\n",
    "        if a>=sum_pr and a<sum_pr+pr[i]:\n",
    "            return i\n",
    "        sum_pr +=pr[i]\n",
    "        \n",
    "    return x-1\n",
    "        \n",
    "\n",
    "def Score(motifs):\n",
    "    s = 0\n",
    "    for i in range(len(motifs[0])):\n",
    "        j = []\n",
    "        for mt in motifs:\n",
    "            j.append(mt[i])\n",
    "        s += (len(j) - max(j.count(\"A\"), j.count(\"C\"), j.count(\"T\"), j.count(\"G\")))\n",
    "    return s\n",
    "\n",
    "\n",
    "def gibbsSampling(Dna , k , t , n):\n",
    "    Motifs = []\n",
    "\n",
    "    for i in range(t):\n",
    "        l = len(Dna[i])\n",
    "        x = random.randint(0, l-k)\n",
    "        Motifs.append(Dna[i][x:x+k])\n",
    "    \n",
    "    bestMotifs = Motifs\n",
    "    c=0;\n",
    "    \n",
    "    while(c<n):\n",
    "        c += 1\n",
    "        j = random.randint(0,t-1)\n",
    "        profile = []\n",
    "        \n",
    "        letter = ['A' , 'C' ,'G','T']\n",
    "        \n",
    "        for ch in letter:\n",
    "            pr = []\n",
    "            for i in range(k):\n",
    "                prof = []\n",
    "                for mt in Motifs:\n",
    "                    prof.append(mt[:j]+mt[j+1:])                    \n",
    "                result = (prof.count(ch)+1/len(Motifs)*2)\n",
    "                pr.append(result)\n",
    "            profile.append(pr) \n",
    "            \n",
    "        r = randomGenerateKmer(Dna[j],k,profile)\n",
    "        Motifs[j] = r\n",
    "        \n",
    "        #print(profile)\n",
    "        #print()\n",
    "        #print(c)\n",
    "        #print()\n",
    "        \n",
    "        \n",
    "        if Score(Motifs) < Score(bestMotifs):\n",
    "            bestMotifs = Motifs\n",
    "        \n",
    "            \n",
    "    return bestMotifs\n",
    "        \n",
    "    \n",
    "\n",
    "\n",
    "k = int(input())\n",
    "t = int(input())\n",
    "n = int(input())\n",
    "Dna = []\n",
    "\n",
    "for i in range(t):\n",
    "    a = input()\n",
    "    Dna.append(a)\n",
    "     \n",
    "M = gibbsSampling(Dna, k, t,n)\n",
    "bMotifs = M\n",
    "\n",
    "for i in range(N):\n",
    "    M = gibbsSampling(Dna, k, t,n)\n",
    "    if Score(M) < Score(bMotifs):\n",
    "         bMotifs = M\n",
    "    else:\n",
    "        bestMotifs = bMotifs\n",
    "\n",
    "\n",
    "print ('\\n'.join(bestMotifs))\n",
    "\n",
    "\n",
    "#8 5 100\n",
    "#CGCCCCTCTCGGGGGTGTTCAGTAAACGGCCA\n",
    "#GGGCGAGGTATGTGTAAGTGCCAAGGTGCCAG\n",
    "#TAGTACCGAGACCGAAAGAAGTATACAGGCGT\n",
    "#TAGATCAAGTTTCAGGTGCACGTCGGTGAACC\n",
    "#AATCCACCAGCTCCACGTGCAATGTTGGCCTA"
   ]
  },
  {
   "cell_type": "markdown",
   "metadata": {},
   "source": [
    "# Task-3"
   ]
  },
  {
   "cell_type": "code",
   "execution_count": 10,
   "metadata": {},
   "outputs": [
    {
     "name": "stdout",
     "output_type": "stream",
     "text": [
      "Enter the k value: 5\n",
      "Enter the string: CAATCCAAC\n",
      "CAATC\n",
      "AATCC\n",
      "ATCCA\n",
      "TCCAA\n",
      "CCAAC\n"
     ]
    }
   ],
   "source": [
    "k = int(input(\"Enter the k value: \"))\n",
    "string = input(\"Enter the string: \")\n",
    "\n",
    "comp = []\n",
    "\n",
    "for i in range(len(string)-k+1):\n",
    "    comp.append(string[i:i+k])\n",
    "\n",
    "print('\\n'.join(comp))"
   ]
  },
  {
   "cell_type": "markdown",
   "metadata": {},
   "source": [
    "# Task-4"
   ]
  },
  {
   "cell_type": "code",
   "execution_count": 1,
   "metadata": {},
   "outputs": [
    {
     "name": "stdout",
     "output_type": "stream",
     "text": [
      "ACCGA\n",
      "CCGAA\n",
      "CGAAG\n",
      "GAAGC\n",
      "AAGCT\n",
      "quit\n",
      "ACCGAAGCT\n"
     ]
    }
   ],
   "source": [
    "def GenomePath(reads):\n",
    "\n",
    "    path = reads[0]\n",
    "    for e in reads[1:]:\n",
    "        path += e[len(e)-1:]\n",
    "\n",
    "    return path\n",
    "\n",
    "dna = []\n",
    "a = ''\n",
    "\n",
    "while a != 'quit':\n",
    "    a = input()\n",
    "    if a=='quit':\n",
    "        break\n",
    "    dna.append(a)\n",
    "\n",
    "print(GenomePath(dna))\n",
    "\n",
    "#ACCGA\n",
    "#CCGAA\n",
    "#CGAAG\n",
    "#GAAGC\n",
    "#AAGCT"
   ]
  },
  {
   "cell_type": "code",
   "execution_count": 1,
   "metadata": {},
   "outputs": [
    {
     "name": "stdout",
     "output_type": "stream",
     "text": [
      "ACCGAAGCT\n"
     ]
    }
   ],
   "source": [
    "dna = ['ACCGA',\n",
    "'CCGAA',\n",
    "'CGAAG',\n",
    "'GAAGC',\n",
    "'AAGCT']\n",
    "\n",
    "path = dna[0]\n",
    "for dn in dna[1:]:\n",
    "    path += dn[len(dn)-1]\n",
    "print(path)\n"
   ]
  },
  {
   "cell_type": "markdown",
   "metadata": {},
   "source": [
    "# Task-5"
   ]
  },
  {
   "cell_type": "code",
   "execution_count": 4,
   "metadata": {},
   "outputs": [
    {
     "name": "stdout",
     "output_type": "stream",
     "text": [
      "ATGCG\n",
      "GCATG\n",
      "CATGC\n",
      "AGGCA\n",
      "GGCAT\n",
      "quit\n",
      "GCATG -> CATGC\n",
      "CATGC -> ATGCG\n",
      "AGGCA -> GGCAT\n",
      "GGCAT -> GCATG\n"
     ]
    }
   ],
   "source": [
    "# overlap graph\n",
    "dna = []\n",
    "a = ''\n",
    "\n",
    "while a != 'quit':\n",
    "    a = input()\n",
    "    if a=='quit':\n",
    "        break\n",
    "    dna.append(a)\n",
    "    \n",
    "l = len(dna)\n",
    "\n",
    "for i in range(l):\n",
    "    for j in range(l):\n",
    "        if i!=j:\n",
    "            if dna[i][1:] == dna[j][:-1]:\n",
    "                print(dna[i] + ' -> ' + dna[j])\n",
    "#ATGCG\n",
    "#GCATG\n",
    "#CATGC\n",
    "#AGGCA\n",
    "#GGCAT          "
   ]
  },
  {
   "cell_type": "markdown",
   "metadata": {},
   "source": [
    "# Task-6"
   ]
  },
  {
   "cell_type": "code",
   "execution_count": 4,
   "metadata": {},
   "outputs": [
    {
     "name": "stdout",
     "output_type": "stream",
     "text": [
      "Enter the key value: 4\n",
      "AAGATTCTCTAC\n",
      "AAG -> AGA\n",
      "AGA -> GAT\n",
      "ATT -> TTC\n",
      "CTA -> TAC\n",
      "CTC -> TCT\n",
      "GAT -> ATT\n",
      "TCT -> CTC,CTA\n",
      "TTC -> TCT\n"
     ]
    }
   ],
   "source": [
    "def DeBruijn(text, k):\n",
    "    result = {}\n",
    "    for i in range(len(text)-k+1):\n",
    "        if text[i:i+k-1] not in result.keys():\n",
    "            result[text[i:i+k-1]] = text[i+1:i+k]\n",
    "        else:\n",
    "            result[text[i:i+k-1]] += ',' + text[i+1:i+k]\n",
    "    return result\n",
    "\n",
    "        \n",
    "k = int(input(\"Enter the key value: \"))\n",
    "text = input()\n",
    "\n",
    "r = DeBruijn(text, k)\n",
    "\n",
    "for key in sorted(r.keys()):\n",
    "    print(key + ' -> ' + r[key])\n",
    "        \n",
    "#4\n",
    "#AAGATTCTCTAC"
   ]
  },
  {
   "cell_type": "markdown",
   "metadata": {},
   "source": [
    "# Task-7"
   ]
  },
  {
   "cell_type": "code",
   "execution_count": 7,
   "metadata": {},
   "outputs": [
    {
     "name": "stdout",
     "output_type": "stream",
     "text": [
      "GAGG\n",
      "CAGG\n",
      "GGGG\n",
      "GGGA\n",
      "CAGG\n",
      "AGGG\n",
      "GGAG\n",
      "quit\n",
      "AGG -> GGG\n",
      "CAG -> AGG,AGG\n",
      "GAG -> AGG\n",
      "GGA -> GAG\n",
      "GGG -> GGG,GGA\n"
     ]
    }
   ],
   "source": [
    "def debruijn(patterns):\n",
    "    result = {}\n",
    "    for kmer in patterns:\n",
    "        if kmer[:-1] not in result.keys():\n",
    "            result[kmer[:-1]] = kmer[1:]\n",
    "        else:\n",
    "            result[kmer[:-1]] += ','+ kmer[1:]\n",
    "    return result\n",
    "\n",
    "\n",
    "dna = []\n",
    "a = ''\n",
    "\n",
    "while a != 'quit':\n",
    "    a = input()\n",
    "    if a=='quit':\n",
    "        break\n",
    "    dna.append(a)\n",
    "    \n",
    "res = debruijn(dna)\n",
    "l = len(res)\n",
    "c = 0\n",
    "for kmer in sorted(res.keys()):\n",
    "    print(kmer+' -> '+res[kmer])\n",
    "    \n",
    "#GAGG\n",
    "#CAGG\n",
    "#GGGG\n",
    "#GGGA\n",
    "#CAGG\n",
    "#AGGG\n",
    "#GGAG"
   ]
  },
  {
   "cell_type": "code",
   "execution_count": null,
   "metadata": {},
   "outputs": [],
   "source": []
  }
 ],
 "metadata": {
  "kernelspec": {
   "display_name": "Python 3",
   "language": "python",
   "name": "python3"
  },
  "language_info": {
   "codemirror_mode": {
    "name": "ipython",
    "version": 3
   },
   "file_extension": ".py",
   "mimetype": "text/x-python",
   "name": "python",
   "nbconvert_exporter": "python",
   "pygments_lexer": "ipython3",
   "version": "3.8.5"
  }
 },
 "nbformat": 4,
 "nbformat_minor": 4
}

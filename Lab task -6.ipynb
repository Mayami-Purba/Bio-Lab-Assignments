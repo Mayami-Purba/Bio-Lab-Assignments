{
 "cells": [
  {
   "cell_type": "markdown",
   "metadata": {},
   "source": [
    "# Task-2"
   ]
  },
  {
   "cell_type": "code",
   "execution_count": 10,
   "metadata": {},
   "outputs": [
    {
     "name": "stdout",
     "output_type": "stream",
     "text": [
      "137 137 186 186 323 49 "
     ]
    }
   ],
   "source": [
    "def convolution(spectrum):\n",
    "    spectrum.sort()\n",
    "    conv = []\n",
    "    for i in range(len(spectrum) - 1):\n",
    "        for j in range(i, len(spectrum)):\n",
    "            if spectrum[j] - spectrum[i] != 0:\n",
    "                conv.append(spectrum[j] - spectrum[i])\n",
    "\n",
    "    freq = {}\n",
    "    for ms in set(conv):\n",
    "        freq[ms] = conv.count(ms)\n",
    "\n",
    "    sml = [k for k, _ in sorted(freq.items(), key=lambda item: item[1], reverse=True)]\n",
    "    conv = []\n",
    "    for i in sml:\n",
    "        conv += [i] * freq[i]\n",
    "    return conv\n",
    "\n",
    "\n",
    "spectrum = [0 , 137 , 186 , 323]\n",
    "ans = convolution(spectrum)\n",
    "\n",
    "for i in ans:\n",
    "    print(i,end= \" \")\n"
   ]
  },
  {
   "cell_type": "markdown",
   "metadata": {},
   "source": [
    "# Task-5"
   ]
  },
  {
   "cell_type": "code",
   "execution_count": 31,
   "metadata": {},
   "outputs": [
    {
     "name": "stdout",
     "output_type": "stream",
     "text": [
      "AACGATAGCGGTAGA$\n",
      "15, 14, 0, 1, 12, 6, 4, 2, 8, 13, 3, 7, 9, 10, 11, 5\n"
     ]
    }
   ],
   "source": [
    "string = input()\n",
    "sa = {}\n",
    "for i in range(len(string)):\n",
    "    ss = string[i:]\n",
    "    sa[ss] = i\n",
    "    \n",
    "l=len(sa)\n",
    "c=0\n",
    "for key in sorted(sa):\n",
    "    c += 1\n",
    "    if c==l:\n",
    "        print(sa[key])\n",
    "    else:\n",
    "        print(sa[key] , end=\", \")"
   ]
  },
  {
   "cell_type": "markdown",
   "metadata": {},
   "source": [
    "# Task-6"
   ]
  },
  {
   "cell_type": "code",
   "execution_count": 6,
   "metadata": {},
   "outputs": [
    {
     "name": "stdout",
     "output_type": "stream",
     "text": [
      "ATAGA\n",
      "ATC\n",
      "GAT\n",
      "quit\n",
      "0->1:A\n",
      "0->7:G\n",
      "1->2:T\n",
      "2->3:A\n",
      "2->6:C\n",
      "3->4:G\n",
      "4->5:A\n",
      "7->8:A\n",
      "8->9:T\n"
     ]
    }
   ],
   "source": [
    "def Trie(patterns):\n",
    "    tr = dict()\n",
    "    tr[0] = {}\n",
    "    ind = 1\n",
    "    \n",
    "    for p in patterns:\n",
    "        cur = tr[0]\n",
    "        for pt in p:\n",
    "            if pt in cur.keys():\n",
    "                cur = tr[cur[pt]]\n",
    "            else:\n",
    "                cur[pt] = ind\n",
    "                tr[ind] = {}\n",
    "                cur = tr[ind]\n",
    "                ind += 1\n",
    "    return tr\n",
    "                \n",
    "\n",
    "\n",
    "pt = []\n",
    "a = ''\n",
    "while True:\n",
    "    a = input()\n",
    "    if a == 'quit':\n",
    "        break\n",
    "    pt.append(a)\n",
    "\n",
    "tr = Trie(pt)\n",
    "\n",
    "for i in tr:\n",
    "    for j in tr[i]:\n",
    "        print(\"{}->{}:{}\".format(i, tr[i][j], j))\n",
    "\n",
    "#ATAGA\n",
    "#ATC\n",
    "#GAT\n",
    "    "
   ]
  },
  {
   "cell_type": "code",
   "execution_count": null,
   "metadata": {},
   "outputs": [],
   "source": []
  }
 ],
 "metadata": {
  "kernelspec": {
   "display_name": "Python 3",
   "language": "python",
   "name": "python3"
  },
  "language_info": {
   "codemirror_mode": {
    "name": "ipython",
    "version": 3
   },
   "file_extension": ".py",
   "mimetype": "text/x-python",
   "name": "python",
   "nbconvert_exporter": "python",
   "pygments_lexer": "ipython3",
   "version": "3.8.5"
  }
 },
 "nbformat": 4,
 "nbformat_minor": 4
}

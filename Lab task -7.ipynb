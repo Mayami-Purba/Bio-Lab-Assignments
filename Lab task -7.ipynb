{
 "cells": [
  {
   "cell_type": "markdown",
   "metadata": {},
   "source": [
    "# Task-1"
   ]
  },
  {
   "cell_type": "code",
   "execution_count": 8,
   "metadata": {},
   "outputs": [
    {
     "name": "stdout",
     "output_type": "stream",
     "text": [
      "GCGTGCCTGGTCA$\n",
      "ACTGGCT$TGCGGC"
     ]
    }
   ],
   "source": [
    "def cirStr(st, l, string):\n",
    "    slen = len(string)\n",
    "    \n",
    "    if st >= slen:\n",
    "        return\n",
    "    \n",
    "    if st+l <= slen:\n",
    "        return string[st:st+l]\n",
    "    \n",
    "    else:\n",
    "        a = string[st:]\n",
    "        a += string[:(st+l)%(slen)]\n",
    "        return a\n",
    "\n",
    "def bwt(string):\n",
    "    slen = len(string)\n",
    "    tb = []\n",
    "    for i in range(slen-1, -1, -1):\n",
    "        r = cirStr(i,slen,string)\n",
    "        tb.append(r)\n",
    "\n",
    "    tb.sort()\n",
    "    return tb\n",
    "\n",
    "\n",
    "text = input()\n",
    "ans = bwt(text)\n",
    "for i in range (len(ans)):\n",
    "    print(ans[i][-1],end=\"\")\n"
   ]
  },
  {
   "cell_type": "markdown",
   "metadata": {},
   "source": [
    "# Task-2"
   ]
  },
  {
   "cell_type": "code",
   "execution_count": 14,
   "metadata": {},
   "outputs": [
    {
     "name": "stdout",
     "output_type": "stream",
     "text": [
      "TTCCTAACG$A\n",
      "TACATCACGT$\n"
     ]
    }
   ],
   "source": [
    "def transformation(string):\n",
    "    lt = string\n",
    "    ft = sorted(string)\n",
    "    ln = len(string)\n",
    "    x1  = []\n",
    "    x2 = []\n",
    "    d1 = {}\n",
    "    d2 = {}\n",
    "    for i in range(ln):\n",
    "        if ft[i] in d1:\n",
    "            d1[ft[i]] += 1\n",
    "        else:\n",
    "            d1[ft[i]] = 1\n",
    "        x1.append((ft[i],d1[ft[i]]))\n",
    "\n",
    "        if lt[i] in d2:\n",
    "            d2[lt[i]] += 1\n",
    "        else:\n",
    "            d2[lt[i]] = 1\n",
    "        x2.append((lt[i],d2[lt[i]]))\n",
    "\n",
    "    ans = [ft[0]]\n",
    "    ind = 0\n",
    "    for i in range(ln-1):\n",
    "        ans.append(lt[ind])\n",
    "        ind = x1.index((ans[-1],x2[ind][1]))\n",
    "\n",
    "    return ans\n",
    "\n",
    "\n",
    "text = input()\n",
    "ans = transformation(text)\n",
    "res = \"\".join(ans[::-1])\n",
    "print(res)"
   ]
  },
  {
   "cell_type": "markdown",
   "metadata": {},
   "source": [
    "# Task-3"
   ]
  },
  {
   "cell_type": "code",
   "execution_count": 17,
   "metadata": {},
   "outputs": [
    {
     "name": "stdout",
     "output_type": "stream",
     "text": [
      "T$GACCA\n",
      "3\n",
      "1\n"
     ]
    }
   ],
   "source": [
    "text = input()\n",
    "n = int(input())\n",
    "\n",
    "b = []\n",
    "c = {}\n",
    "\n",
    "for ch in text:\n",
    "    if ch not in c.keys():\n",
    "        c[ch] = 1\n",
    "    else:\n",
    "        c[ch] += 1\n",
    "        \n",
    "    s = ch + str(c[ch])\n",
    "    b.append(s)\n",
    "\n",
    "res = sorted(b, key=lambda x: x[0])\n",
    "ans = []\n",
    "\n",
    "for i in b:\n",
    "    for j, k in enumerate(res):\n",
    "        if k == i:\n",
    "            ans.append(j)\n",
    "            \n",
    "print(ans[n])"
   ]
  }
 ],
 "metadata": {
  "kernelspec": {
   "display_name": "Python 3",
   "language": "python",
   "name": "python3"
  },
  "language_info": {
   "codemirror_mode": {
    "name": "ipython",
    "version": 3
   },
   "file_extension": ".py",
   "mimetype": "text/x-python",
   "name": "python",
   "nbconvert_exporter": "python",
   "pygments_lexer": "ipython3",
   "version": "3.8.5"
  }
 },
 "nbformat": 4,
 "nbformat_minor": 4
}
